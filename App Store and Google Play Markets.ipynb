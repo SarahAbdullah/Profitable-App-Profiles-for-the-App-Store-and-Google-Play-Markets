{
 "cells": [
  {
   "cell_type": "markdown",
   "metadata": {},
   "source": [
    "\n",
    "# Profitable App Profiles for the App Store and Google Play Markets\n"
   ]
  },
  {
   "cell_type": "markdown",
   "metadata": {},
   "source": [
    "The aim of this project is to find mobile app profiles that are profitable for the App Store and Google Play markets. \n",
    "\n",
    "A company that builds an Android and iOS mobile apps want to make their apps available on Google Play and the App Store that are free to download and install. The main source of revenue are in-app ads. This means that the revenue for any given app is mostly influenced by the number of users who use the app — the more users that see and engage with the ads,the better. My goal for this project is to analyze the data to help the company understand what type of apps are likely to attract more users.\n",
    "\n"
   ]
  },
  {
   "cell_type": "markdown",
   "metadata": {},
   "source": [
    "## 1.Opening and Exploring the Data\n",
    "\n",
    "By September 2018, there were approximately 4 million apps in the App Store and Google Play market.Collecting data for over 4 million apps requires a significant amount of time and money, so I will try to find a sample of data to analyze it. Luckily, these are two data sets that seem suitable for our purpose:\n",
    "\n",
    "1- [App Store data set](https://www.kaggle.com/ramamet4/app-store-apple-data-set-10k-apps): containing 7,000 iOS apps. You can download the data set directly from this [link](https://dq-content.s3.amazonaws.com/350/AppleStore.csv) \n",
    "\n",
    "2- [Google Play data set](https://www.kaggle.com/lava18/google-play-store-apps): containing 10,000 Android apps. You can download the data set directly from this [link](https://dq-content.s3.amazonaws.com/350/googleplaystore.csv).\n",
    "\n",
    "\n",
    "Let's start by opening the data sets:"
   ]
  },
  {
   "cell_type": "code",
   "execution_count": 8,
   "metadata": {},
   "outputs": [],
   "source": [
    "from csv import reader\n",
    "\n",
    "#AppStore data\n",
    "opened_file = open('AppleStore.csv')\n",
    "read_file = reader(opened_file)\n",
    "appStore_data = list(read_file)\n",
    "appStore_Header = appStore_data[0]\n",
    "appStore_data = appStore_data[1:]\n",
    "\n",
    "#GooglePlay data\n",
    "opened_file = open('googleplaystore.csv')\n",
    "read_file = reader(opened_file)\n",
    "googlePlay_data = list(read_file)\n",
    "googlePlay_Header = googlePlay_data[0]\n",
    "googlePlay_data = googlePlay_data[1: ]"
   ]
  },
  {
   "cell_type": "markdown",
   "metadata": {},
   "source": [
    "To make it easier to explore the data sets, we need to write a function named **explore_data()** that we can use repeatedly to explore rows in a more readable way. The function takes the following parameters: \n",
    " * The **dataset** - expected to be a list of lists.\n",
    " * Index of **start** and **end** row - expected to be integers. \n",
    " * **rows_and_columns** to show the number of row and column - expected to be a Boolean and has False as a default argument.\n"
   ]
  },
  {
   "cell_type": "code",
   "execution_count": 9,
   "metadata": {},
   "outputs": [],
   "source": [
    "def explore_data(dataset, start, end, rows_and_columns=False):\n",
    "    dataset_slice = dataset[start:end]    \n",
    "    for row in dataset_slice:\n",
    "        print(row)\n",
    "        print('\\n')  \n",
    "\n",
    "    if rows_and_columns:\n",
    "        print('Number of rows:', len(dataset))\n",
    "        print('Number of columns:', len(dataset[0]))\n"
   ]
  },
  {
   "cell_type": "code",
   "execution_count": 10,
   "metadata": {},
   "outputs": [
    {
     "name": "stdout",
     "output_type": "stream",
     "text": [
      "['id', 'track_name', 'size_bytes', 'currency', 'price', 'rating_count_tot', 'rating_count_ver', 'user_rating', 'user_rating_ver', 'ver', 'cont_rating', 'prime_genre', 'sup_devices.num', 'ipadSc_urls.num', 'lang.num', 'vpp_lic']\n",
      "\n",
      "\n",
      "['284882215', 'Facebook', '389879808', 'USD', '0.0', '2974676', '212', '3.5', '3.5', '95.0', '4+', 'Social Networking', '37', '1', '29', '1']\n",
      "\n",
      "\n",
      "['389801252', 'Instagram', '113954816', 'USD', '0.0', '2161558', '1289', '4.5', '4.0', '10.23', '12+', 'Photo & Video', '37', '0', '29', '1']\n",
      "\n",
      "\n",
      "['529479190', 'Clash of Clans', '116476928', 'USD', '0.0', '2130805', '579', '4.5', '4.5', '9.24.12', '9+', 'Games', '38', '5', '18', '1']\n",
      "\n",
      "\n",
      "['420009108', 'Temple Run', '65921024', 'USD', '0.0', '1724546', '3842', '4.5', '4.0', '1.6.2', '9+', 'Games', '40', '5', '1', '1']\n",
      "\n",
      "\n",
      "Number of rows: 7197\n",
      "Number of columns: 16\n"
     ]
    }
   ],
   "source": [
    "print(appStore_Header)\n",
    "print('\\n')\n",
    "explore_data(appStore_data, 0, 4, True)"
   ]
  },
  {
   "cell_type": "markdown",
   "metadata": {},
   "source": [
    "- We have 7197 iOS apps in App Store data set.\n",
    "- The columns that seem interesting are: 'track_name','price', 'rating_count_tot','prime_genre'.  "
   ]
  },
  {
   "cell_type": "code",
   "execution_count": 11,
   "metadata": {},
   "outputs": [
    {
     "name": "stdout",
     "output_type": "stream",
     "text": [
      "['App', 'Category', 'Rating', 'Reviews', 'Size', 'Installs', 'Type', 'Price', 'Content Rating', 'Genres', 'Last Updated', 'Current Ver', 'Android Ver']\n",
      "\n",
      "\n",
      "['Photo Editor & Candy Camera & Grid & ScrapBook', 'ART_AND_DESIGN', '4.1', '159', '19M', '10,000+', 'Free', '0', 'Everyone', 'Art & Design', 'January 7, 2018', '1.0.0', '4.0.3 and up']\n",
      "\n",
      "\n",
      "['Coloring book moana', 'ART_AND_DESIGN', '3.9', '967', '14M', '500,000+', 'Free', '0', 'Everyone', 'Art & Design;Pretend Play', 'January 15, 2018', '2.0.0', '4.0.3 and up']\n",
      "\n",
      "\n",
      "['U Launcher Lite – FREE Live Cool Themes, Hide Apps', 'ART_AND_DESIGN', '4.7', '87510', '8.7M', '5,000,000+', 'Free', '0', 'Everyone', 'Art & Design', 'August 1, 2018', '1.2.4', '4.0.3 and up']\n",
      "\n",
      "\n",
      "['Sketch - Draw & Paint', 'ART_AND_DESIGN', '4.5', '215644', '25M', '50,000,000+', 'Free', '0', 'Teen', 'Art & Design', 'June 8, 2018', 'Varies with device', '4.2 and up']\n",
      "\n",
      "\n",
      "Number of rows: 10841\n",
      "Number of columns: 13\n"
     ]
    }
   ],
   "source": [
    "print(googlePlay_Header)\n",
    "print('\\n')\n",
    "explore_data(googlePlay_data ,0 ,4, True ) "
   ]
  },
  {
   "cell_type": "markdown",
   "metadata": {},
   "source": [
    "- We have 10841 Android apps in Google Play data set.\n",
    "- The columns that seem interesting are: 'App', 'Category', 'Rating', 'Reviews', 'Installs', 'Type', 'Price', 'Genres'.  "
   ]
  },
  {
   "cell_type": "markdown",
   "metadata": {},
   "source": [
    "## 2.Data Cleaning \n",
    "\n",
    "After exploring the data,we need to start preparing and cleaning our data for analysis. \n",
    "\n",
    "Recall that the company only build free-apps and only for English-speaking audience This means that we'll need to remove: non-English apps & the apps that aren't free.\n",
    "\n",
    "The cleaning process includes:\n",
    "\n",
    "1- Detect inaccurate data, and correct or remove it.\n",
    "\n",
    "2- Detect duplicate data, and remove the duplicates.\n",
    "\n",
    "3- Remove non-English apps like 爱奇艺PPS -《欢乐颂2》电视剧热播.\n",
    "\n",
    "4- Remove apps that aren't free."
   ]
  },
  {
   "cell_type": "markdown",
   "metadata": {},
   "source": [
    "### 2.1 Deleting Wrong Data\n",
    "\n",
    "If we check the discussion forum on Google Play data set, we can see that one of the discussions [here](https://www.kaggle.com/lava18/google-play-store-apps/discussion/66015) describes an error for row 10472 (without counting header row). Let's print this row and compare it against the header."
   ]
  },
  {
   "cell_type": "code",
   "execution_count": 12,
   "metadata": {},
   "outputs": [
    {
     "name": "stdout",
     "output_type": "stream",
     "text": [
      "['App', 'Category', 'Rating', 'Reviews', 'Size', 'Installs', 'Type', 'Price', 'Content Rating', 'Genres', 'Last Updated', 'Current Ver', 'Android Ver']\n",
      "\n",
      "\n",
      "['Life Made WI-Fi Touchscreen Photo Frame', '1.9', '19', '3.0M', '1,000+', 'Free', '0', 'Everyone', '', 'February 11, 2018', '1.0.19', '4.0 and up']\n"
     ]
    }
   ],
   "source": [
    "print(googlePlay_Header)\n",
    "print('\\n')\n",
    "print(googlePlay_data[10472])"
   ]
  },
  {
   "cell_type": "markdown",
   "metadata": {},
   "source": [
    "The row 10472 corresponds to the app 'Life Made WI-Fi Touchscreen Photo Frame' is wrong because, the rating is 19 while the maximum value of app rating on Google Play is 5. So, we need to delete this data.\n"
   ]
  },
  {
   "cell_type": "code",
   "execution_count": 13,
   "metadata": {},
   "outputs": [
    {
     "name": "stdout",
     "output_type": "stream",
     "text": [
      "10841\n",
      "10840\n"
     ]
    }
   ],
   "source": [
    "# don't run this more than once \n",
    "print(len(googlePlay_data))\n",
    "del googlePlay_data[10472]\n",
    "print(len(googlePlay_data))"
   ]
  },
  {
   "cell_type": "markdown",
   "metadata": {},
   "source": [
    "### 2.2 Removing Duplicate Entries\n",
    "\n",
    "If you explore the Google Play data set long enough, we'll find that some apps have more than one entry. So, we need to check what duplicate applications we have in the data set and how many of them."
   ]
  },
  {
   "cell_type": "code",
   "execution_count": 14,
   "metadata": {},
   "outputs": [],
   "source": [
    "duplicate_apps = []\n",
    "unique_apps = []\n",
    "\n",
    "for app in googlePlay_data:\n",
    "    app_name = app[0]\n",
    "    \n",
    "    if app_name in unique_apps:\n",
    "        duplicate_apps.append(app_name)\n",
    "    else:\n",
    "        unique_apps.append(app_name)\n"
   ]
  },
  {
   "cell_type": "code",
   "execution_count": 16,
   "metadata": {},
   "outputs": [
    {
     "name": "stdout",
     "output_type": "stream",
     "text": [
      "Number of unique apps 9659\n",
      "\n",
      "\n",
      "Number of duplicate apps 1181\n"
     ]
    }
   ],
   "source": [
    "print(\"Number of unique apps\" , len(unique_apps) )\n",
    "print(\"\\n\")\n",
    "print(\"Number of duplicate apps\" ,  len(duplicate_apps) )"
   ]
  },
  {
   "cell_type": "markdown",
   "metadata": {},
   "source": [
    "In total, there are 1,181 cases where an app occurs more than once.\n",
    "Below, we print some of duplicate apps:"
   ]
  },
  {
   "cell_type": "code",
   "execution_count": 145,
   "metadata": {},
   "outputs": [
    {
     "name": "stdout",
     "output_type": "stream",
     "text": [
      "Example of duplicate apps: \n",
      " ['Quick PDF Scanner + OCR FREE', 'Box', 'Google My Business', 'ZOOM Cloud Meetings', 'join.me - Simple Meetings', 'Box', 'Zenefits', 'Google Ads', 'Google My Business', 'Slack']\n"
     ]
    }
   ],
   "source": [
    "print(\"Example of duplicate apps: \\n\" , duplicate_apps[:10])"
   ]
  },
  {
   "cell_type": "markdown",
   "metadata": {},
   "source": [
    "If we check how many entries we have for 'slack' app:"
   ]
  },
  {
   "cell_type": "code",
   "execution_count": 18,
   "metadata": {},
   "outputs": [
    {
     "name": "stdout",
     "output_type": "stream",
     "text": [
      "\n",
      "\n",
      "['Slack', 'BUSINESS', '4.4', '51507', 'Varies with device', '5,000,000+', 'Free', '0', 'Everyone', 'Business', 'August 2, 2018', 'Varies with device', 'Varies with device']\n",
      "\n",
      "\n",
      "['Slack', 'BUSINESS', '4.4', '51507', 'Varies with device', '5,000,000+', 'Free', '0', 'Everyone', 'Business', 'August 2, 2018', 'Varies with device', 'Varies with device']\n",
      "\n",
      "\n",
      "['Slack', 'BUSINESS', '4.4', '51510', 'Varies with device', '5,000,000+', 'Free', '0', 'Everyone', 'Business', 'August 2, 2018', 'Varies with device', 'Varies with device']\n"
     ]
    }
   ],
   "source": [
    "for app in googlePlay_data:\n",
    "    if app[0] == 'Slack':\n",
    "        print('\\n')\n",
    "        print(app)"
   ]
  },
  {
   "cell_type": "markdown",
   "metadata": {},
   "source": [
    "If you examine the rows we printed for 'Slack' app, the main difference happens on index 3 of each row, which corresponds to the number of reviews. The different numbers show the data was collected at different times.\n",
    "\n",
    "We can use this information to build a criterion for removing the duplicates.The higher the number of reviews, the more recent the data should be. Rather than removing duplicates randomly, we'll only keep the row with the highest number of reviews and remove the other entries for any given app.\n",
    "\n",
    "We need to create a dictionary where: \n",
    "each key is a unique app name and the value is the highest number of reviews of that app."
   ]
  },
  {
   "cell_type": "code",
   "execution_count": 19,
   "metadata": {},
   "outputs": [],
   "source": [
    "reviews_max = {} # contains all unique apps names with their highest number of reviews.\n",
    "\n",
    "for app in googlePlay_data:\n",
    "    name = app[0]\n",
    "    n_reviews = float(app[3]) \n",
    "    \n",
    "    if (name in reviews_max) and (reviews_max[name] < n_reviews):\n",
    "        reviews_max[name] = n_reviews\n",
    "        \n",
    "    elif name not in reviews_max :\n",
    "         reviews_max[name] = n_reviews\n"
   ]
  },
  {
   "cell_type": "markdown",
   "metadata": {},
   "source": [
    "Previously, we found that there are 1,181 duplicate apps, so the length of our dictionary (of unique apps) should be equal to the difference between the length of our data set and 1,181. Let's check if the length of dictionary as what we expect:"
   ]
  },
  {
   "cell_type": "code",
   "execution_count": 22,
   "metadata": {},
   "outputs": [
    {
     "name": "stdout",
     "output_type": "stream",
     "text": [
      "Expected length: 9659\n",
      "Actual length: 9659\n"
     ]
    }
   ],
   "source": [
    "print('Expected length:', len(googlePlay_data) - 1181)\n",
    "print('Actual length:', len(reviews_max))"
   ]
  },
  {
   "cell_type": "markdown",
   "metadata": {},
   "source": [
    "Now, let's use **reviews_max** dictionary to remove the duplicates by do the following: \n",
    "\n",
    "1- We need to creat two empty list:\n",
    " * **googlePlay_clean** list: to store the correct apps(without the duplicates apps).\n",
    " * **already_added** list: to store The apps names of the correct apps.\n",
    "\n",
    "2- We loop through the **googlePlay_data**, and for every iteration, we add the current row(app) to the  **googlePlay_clean** list, and the app name(name) to the **already_added** list if the two following conditions are true:\n",
    "\n",
    "* Conditions(1):\n",
    "The **n_reviews** of the current app is equal to the number of reviews of that app in the **reviews_max** dictionary.\n",
    "\n",
    "* Conditions(2):\n",
    "The name of the current app is not in the **'already_added'** list , we need this condtion for those cases where the highest number of reviews of a duplicate app is the same for more than one entry and If we only check for the first condition, we'll still end up with duplicate entries for some apps."
   ]
  },
  {
   "cell_type": "code",
   "execution_count": 25,
   "metadata": {},
   "outputs": [],
   "source": [
    "googlePlay_clean = []\n",
    "already_added = []\n",
    "\n",
    "for app in googlePlay_data:\n",
    "    name = app[0]\n",
    "    n_reviews = float(app[3])\n",
    "    \n",
    "    if (n_reviews == reviews_max[name]) and (name not in already_added):\n",
    "        googlePlay_clean.append(app)\n",
    "        already_added.append(name)\n"
   ]
  },
  {
   "cell_type": "markdown",
   "metadata": {},
   "source": [
    "Now let's quickly explore the new data set, and confirm that the number of rows is 9,659:"
   ]
  },
  {
   "cell_type": "code",
   "execution_count": 26,
   "metadata": {},
   "outputs": [
    {
     "name": "stdout",
     "output_type": "stream",
     "text": [
      "['Photo Editor & Candy Camera & Grid & ScrapBook', 'ART_AND_DESIGN', '4.1', '159', '19M', '10,000+', 'Free', '0', 'Everyone', 'Art & Design', 'January 7, 2018', '1.0.0', '4.0.3 and up']\n",
      "\n",
      "\n",
      "['U Launcher Lite – FREE Live Cool Themes, Hide Apps', 'ART_AND_DESIGN', '4.7', '87510', '8.7M', '5,000,000+', 'Free', '0', 'Everyone', 'Art & Design', 'August 1, 2018', '1.2.4', '4.0.3 and up']\n",
      "\n",
      "\n",
      "['Sketch - Draw & Paint', 'ART_AND_DESIGN', '4.5', '215644', '25M', '50,000,000+', 'Free', '0', 'Teen', 'Art & Design', 'June 8, 2018', 'Varies with device', '4.2 and up']\n",
      "\n",
      "\n",
      "Number of rows: 9659\n",
      "Number of columns: 13\n"
     ]
    }
   ],
   "source": [
    "explore_data(googlePlay_clean, 0, 3, True)"
   ]
  },
  {
   "cell_type": "markdown",
   "metadata": {},
   "source": [
    "We have 9659 rows, just as we expected."
   ]
  },
  {
   "cell_type": "markdown",
   "metadata": {},
   "source": [
    "### 2.3 Removing Non-English Apps\n",
    "\n",
    "If we explore the data enough, we'll find that both data sets have apps with names that suggest they are not directed toward an English-speaking audience. See the below examples:"
   ]
  },
  {
   "cell_type": "code",
   "execution_count": 40,
   "metadata": {},
   "outputs": [
    {
     "name": "stdout",
     "output_type": "stream",
     "text": [
      "【脱出ゲーム】絶対に最後までプレイしないで 〜謎解き＆ブロックパズル〜\n",
      "中国語 AQリスニング\n"
     ]
    }
   ],
   "source": [
    "print(appStore_data[6731][1])\n",
    "print(googlePlay_clean[4412][0])\n"
   ]
  },
  {
   "cell_type": "markdown",
   "metadata": {},
   "source": [
    "We're not interested in keeping these apps, so we'll remove them. One way to go about this is to remove each app with a name containing a symbol that is not commonly used in English text.  English text usually includes letters from the English alphabet, numbers composed of digits from 0 to 9, punctuation marks (., !, ?, ;), and other symbols (+, *, /).\n",
    "\n",
    "\n",
    "We know that each character we use in a string has a corresponding number associated with it. The numbers corresponding to the characters we commonly use in an English text are all in the range 0 to 127, according to the ASCII system. Based on this number range, we can build a function that detects whether a character belongs to the set of common English characters or not. If the number is equal to or less than 127, then the character belongs to the set of common English characters.\n",
    "\n",
    "\n",
    "So, We built this function below using the built-in ord() function to find out the corresponding encoding number of each character.\n"
   ]
  },
  {
   "cell_type": "code",
   "execution_count": 41,
   "metadata": {},
   "outputs": [],
   "source": [
    "def is_English(string):\n",
    "    for character in string:\n",
    "        if ord(character) > 127:\n",
    "            return False \n",
    "    return True\n",
    "        "
   ]
  },
  {
   "cell_type": "code",
   "execution_count": 42,
   "metadata": {},
   "outputs": [
    {
     "name": "stdout",
     "output_type": "stream",
     "text": [
      "True\n",
      "False\n",
      "False\n",
      "False\n"
     ]
    }
   ],
   "source": [
    "#Check:\n",
    "print(is_English('Instagram'))\n",
    "print(is_English('爱奇艺PPS -《欢乐颂2》电视剧热播'))\n",
    "print(is_English('Docs To Go™ Free Office Suite'))\n",
    "print(is_English('Instachat 😜'))"
   ]
  },
  {
   "cell_type": "markdown",
   "metadata": {},
   "source": [
    "The function seems to work fine, but some English app names use emojis or other symbols that fall outside of the ASCII range. Because of this, we'll remove useful apps if we use the function in its current form. So,we need to use a function that check if the character is emoji or not.\n",
    "\n",
    "**Note:**\n",
    "you'll need to Install [**emoji**](https://github.com/carpedm20/emoji/) package to use [char_is_emoji](https://gist.github.com/jezdez/0185e35704dbdf3c880f) Function. "
   ]
  },
  {
   "cell_type": "code",
   "execution_count": 97,
   "metadata": {},
   "outputs": [],
   "source": [
    "import emoji\n",
    "\n",
    "def char_is_emoji(character):\n",
    "    return character in emoji.UNICODE_EMOJI"
   ]
  },
  {
   "cell_type": "code",
   "execution_count": 98,
   "metadata": {},
   "outputs": [],
   "source": [
    "def is_English(string):\n",
    "\n",
    "    for character in string:\n",
    "        if ord(character) > 127:\n",
    "            if (char_is_emoji(character)) != True:\n",
    "                        return False \n",
    "    \n",
    "    return True"
   ]
  },
  {
   "cell_type": "code",
   "execution_count": 100,
   "metadata": {},
   "outputs": [
    {
     "name": "stdout",
     "output_type": "stream",
     "text": [
      "True\n",
      "True\n"
     ]
    }
   ],
   "source": [
    "#check again:\n",
    "print(is_English('Docs To Go™ Free Office Suite'))\n",
    "print(is_English('Instachat 😜'))"
   ]
  },
  {
   "cell_type": "markdown",
   "metadata": {},
   "source": [
    "The function works perfectly ,Now we can use it to filter out the non-English apps for both data sets:"
   ]
  },
  {
   "cell_type": "code",
   "execution_count": 101,
   "metadata": {},
   "outputs": [],
   "source": [
    "appStore_english = []\n",
    "googlePlay_english = []\n",
    "\n",
    "for app in appStore_data:\n",
    "    name = app[1]\n",
    "    if is_English(name):\n",
    "        appStore_english.append(app)\n",
    "\n",
    "for app in googlePlay_clean:\n",
    "    name = app[0]\n",
    "    if is_English(name):\n",
    "        googlePlay_english.append(app)        \n",
    "        "
   ]
  },
  {
   "cell_type": "code",
   "execution_count": 102,
   "metadata": {},
   "outputs": [
    {
     "name": "stdout",
     "output_type": "stream",
     "text": [
      "['284882215', 'Facebook', '389879808', 'USD', '0.0', '2974676', '212', '3.5', '3.5', '95.0', '4+', 'Social Networking', '37', '1', '29', '1']\n",
      "\n",
      "\n",
      "['389801252', 'Instagram', '113954816', 'USD', '0.0', '2161558', '1289', '4.5', '4.0', '10.23', '12+', 'Photo & Video', '37', '0', '29', '1']\n",
      "\n",
      "\n",
      "['529479190', 'Clash of Clans', '116476928', 'USD', '0.0', '2130805', '579', '4.5', '4.5', '9.24.12', '9+', 'Games', '38', '5', '18', '1']\n",
      "\n",
      "\n",
      "Number of rows: 5874\n",
      "Number of columns: 16\n",
      "\n",
      "\n",
      "['Photo Editor & Candy Camera & Grid & ScrapBook', 'ART_AND_DESIGN', '4.1', '159', '19M', '10,000+', 'Free', '0', 'Everyone', 'Art & Design', 'January 7, 2018', '1.0.0', '4.0.3 and up']\n",
      "\n",
      "\n",
      "['Sketch - Draw & Paint', 'ART_AND_DESIGN', '4.5', '215644', '25M', '50,000,000+', 'Free', '0', 'Teen', 'Art & Design', 'June 8, 2018', 'Varies with device', '4.2 and up']\n",
      "\n",
      "\n",
      "['Pixel Draw - Number Art Coloring Book', 'ART_AND_DESIGN', '4.3', '967', '2.8M', '100,000+', 'Free', '0', 'Everyone', 'Art & Design;Creativity', 'June 20, 2018', '1.1', '4.4 and up']\n",
      "\n",
      "\n",
      "Number of rows: 9283\n",
      "Number of columns: 13\n"
     ]
    }
   ],
   "source": [
    "explore_data(appStore_english, 0, 3, True)\n",
    "print('\\n')\n",
    "explore_data(googlePlay_english, 0, 3, True)"
   ]
  },
  {
   "cell_type": "markdown",
   "metadata": {},
   "source": [
    "After removing the non-english apps, we're left with 5874 iOS apps and 9283 Android apps."
   ]
  },
  {
   "cell_type": "markdown",
   "metadata": {},
   "source": [
    "### 2.4 Removing Non-Free Apps\n",
    "\n",
    "As we mentioned, we only need the apps that are free to download and install. So, we'll need to remove non-free apps as the last step in the data cleaning process"
   ]
  },
  {
   "cell_type": "code",
   "execution_count": 103,
   "metadata": {},
   "outputs": [],
   "source": [
    "appStore_freeApp = []\n",
    "googlePlay_freeApp = []\n",
    "\n",
    "for app in appStore_english:\n",
    "    price = app[4] \n",
    "    if price == '0.0' :\n",
    "        appStore_freeApp.append(app)\n",
    "\n",
    "for app in googlePlay_english:\n",
    "    price = app[7]\n",
    "    if  price == '0':\n",
    "        googlePlay_freeApp.append(app)  "
   ]
  },
  {
   "cell_type": "code",
   "execution_count": 104,
   "metadata": {},
   "outputs": [
    {
     "name": "stdout",
     "output_type": "stream",
     "text": [
      "the number of free app in App Store:  3020\n",
      "the number of free app in Google Play:  8555\n"
     ]
    }
   ],
   "source": [
    "print('the number of free app in App Store: ' , len(appStore_freeApp))\n",
    "print('the number of free app in Google Play: ' , len(googlePlay_freeApp))"
   ]
  },
  {
   "cell_type": "markdown",
   "metadata": {},
   "source": [
    "We have 3020 iOS apps and 8555 Android apps, which should be enough for our analysis."
   ]
  },
  {
   "cell_type": "markdown",
   "metadata": {},
   "source": [
    "## Data Analysis\n",
    "\n",
    "\n",
    "### Most Common Apps by Genre\n",
    "\n",
    "Now, we're going to start analyzing the data:\n",
    "\n",
    "As we mentioned in the introduction, the aim of this project is to determine the kinds of apps that are likely to attract more users because the revenue is highly influenced by the number of people using the apps.\n",
    "\n",
    "To minimize risks and overhead, the company uses the validation strategy for an app idea which comprised of 3 steps:\n",
    "\n",
    "1- Build a minimal Android version of the app, and add it to Google Play.\n",
    "\n",
    "2- If the app has a good response from users, we develop it further.\n",
    "\n",
    "3- If the app is profitable after six months, we build an iOS version of the app and add it to the App Store.\n",
    "\n",
    "Because the company wants to add the app on both Google Play and the App Store, we need to find app profiles that are successful on both markets. Let's begin the analysis by getting a sense of what are the most common genres for each market.For this, we'll need to build frequency tables for 'prime_genre' column in app Store data set and for 'Genres' and 'Category' columns in google Play data set.We'll build two functions to analyze the frequency tables:\n",
    "\n",
    "1- One function to generate frequency tables that show percentages.\n",
    "\n",
    "2- Another function to display the percentages in a descending order."
   ]
  },
  {
   "cell_type": "code",
   "execution_count": 105,
   "metadata": {},
   "outputs": [],
   "source": [
    "\n",
    "def freq_table(dataset ,index):\n",
    "    \n",
    "    frequency_table = {}\n",
    "    total = 0\n",
    "\n",
    "    for row in dataset:\n",
    "        total += 1\n",
    "        value = row[index]\n",
    "        \n",
    "        if value in frequency_table:\n",
    "            frequency_table[value]+=1\n",
    "        else:\n",
    "            frequency_table[value]= 1\n",
    "            \n",
    "    percentages_table = {}\n",
    "    for key in frequency_table:\n",
    "        percentage = (frequency_table[key] / total) * 100\n",
    "        percentages_table[key] = percentage\n",
    "    \n",
    "    return percentages_table\n",
    "\n",
    "\n",
    "        \n",
    "def display_table(dataset, index):\n",
    "    table = freq_table(dataset, index)\n",
    "    table_display = []\n",
    "    for key in table:\n",
    "        key_val_as_tuple = (table[key], key)\n",
    "        table_display.append(key_val_as_tuple)\n",
    "        \n",
    "    table_sorted = sorted(table_display, reverse = True)\n",
    "    for entry in table_sorted:\n",
    "        print(entry[1], ':', entry[0])\n"
   ]
  },
  {
   "cell_type": "markdown",
   "metadata": {},
   "source": [
    "Let's start by exploring the frequency tables:\n",
    "\n",
    "1- The frequency table for the 'prime_genre' column of the 'App Store' data set."
   ]
  },
  {
   "cell_type": "code",
   "execution_count": 106,
   "metadata": {},
   "outputs": [
    {
     "name": "stdout",
     "output_type": "stream",
     "text": [
      "Games : 59.60264900662252\n",
      "Entertainment : 7.6158940397351\n",
      "Photo & Video : 4.966887417218543\n",
      "Education : 3.80794701986755\n",
      "Social Networking : 3.1788079470198674\n",
      "Shopping : 2.4503311258278146\n",
      "Utilities : 2.218543046357616\n",
      "Music : 2.0860927152317883\n",
      "Sports : 2.019867549668874\n",
      "Health & Fitness : 1.95364238410596\n",
      "Productivity : 1.6556291390728477\n",
      "Lifestyle : 1.490066225165563\n",
      "News : 1.2913907284768211\n",
      "Travel : 1.0927152317880795\n",
      "Finance : 1.0927152317880795\n",
      "Weather : 0.8609271523178808\n",
      "Food & Drink : 0.8609271523178808\n",
      "Reference : 0.5298013245033113\n",
      "Business : 0.49668874172185434\n",
      "Book : 0.26490066225165565\n",
      "Medical : 0.1986754966887417\n",
      "Navigation : 0.16556291390728478\n",
      "Catalogs : 0.09933774834437085\n"
     ]
    }
   ],
   "source": [
    "display_table(appStore_freeApp, -5 ) #prime_genre"
   ]
  },
  {
   "cell_type": "markdown",
   "metadata": {},
   "source": [
    "From result, we can see that among the ios apps, more than a half (59.60%) are games. Entertainment apps are close to  8%, followed by photo and video apps, which are close to 5%.  Only 3.8% of the apps are designed for education, followed by social networking apps which amount for 3.18% of the apps in our data set.\n",
    "\n",
    "The general impression is that App Store (the part containing free English apps) is dominated by apps that are designed for fun (games, entertainment, photo and video, social networking,music, sports, etc.), while apps with practical purposes (education, shopping, utilities, productivity, lifestyle, etc.) are more rare. However, the fact that fun apps are the most numerous doesn't also imply that they also have the greatest number of users — the demand might not be the same as the offer.\n",
    "\n",
    "\n",
    "2- The frequency table for the 'Category' column of the 'Google Play' data set."
   ]
  },
  {
   "cell_type": "code",
   "execution_count": 119,
   "metadata": {},
   "outputs": [
    {
     "name": "stdout",
     "output_type": "stream",
     "text": [
      "FAMILY : 18.92460549386324\n",
      "GAME : 9.72530683810637\n",
      "TOOLS : 8.556399766218584\n",
      "BUSINESS : 4.687317358270017\n",
      "PRODUCTIVITY : 3.9392168322618355\n",
      "LIFESTYLE : 3.9041496201052017\n",
      "FINANCE : 3.717124488603156\n",
      "MEDICAL : 3.6236119228521333\n",
      "PERSONALIZATION : 3.378141437755698\n",
      "SPORTS : 3.237872589129164\n",
      "COMMUNICATION : 3.2028053769725306\n",
      "HEALTH_AND_FITNESS : 3.132670952659264\n",
      "PHOTOGRAPHY : 2.9690239625949735\n",
      "NEWS_AND_MAGAZINES : 2.77030976037405\n",
      "SOCIAL : 2.6651081239041496\n",
      "TRAVEL_AND_LOCAL : 2.2910578609000583\n",
      "SHOPPING : 2.2209234365867916\n",
      "BOOKS_AND_REFERENCE : 2.162478082992402\n",
      "DATING : 1.8234950321449443\n",
      "VIDEO_PLAYERS : 1.7533606078316772\n",
      "MAPS_AND_NAVIGATION : 1.3325540619520748\n",
      "FOOD_AND_DRINK : 1.2273524254821742\n",
      "EDUCATION : 1.157218001168907\n",
      "ENTERTAINMENT : 0.9468147282291058\n",
      "LIBRARIES_AND_DEMO : 0.9351256575102279\n",
      "AUTO_AND_VEHICLES : 0.9234365867913501\n",
      "HOUSE_AND_HOME : 0.8182349503214494\n",
      "WEATHER : 0.783167738164816\n",
      "EVENTS : 0.701344243132671\n",
      "PARENTING : 0.6545879602571595\n",
      "ART_AND_DESIGN : 0.6545879602571595\n",
      "BEAUTY : 0.619520748100526\n",
      "COMICS : 0.5610753945061367\n"
     ]
    }
   ],
   "source": [
    "display_table(googlePlay_freeApp, 1)#Category"
   ]
  },
  {
   "cell_type": "markdown",
   "metadata": {},
   "source": [
    "The result seems a little different on Google Play: \n",
    "- There are not that many apps designed for fun, However, if we investigate this further, we can see that the family category (19% of the apps) means mostly games for kids.\n",
    "\n",
    "- Also, it seems that a good number of apps are designed for practical purposes (family, tools, business, lifestyle, productivity, etc.).  so, practical apps seem to have a better representation on Google Play compared to App Store. This picture is also confirmed by the frequency table we see below for the Genres column:\n",
    "\n",
    "3- The frequency table for the 'Genres' column of the 'Google Play' data set."
   ]
  },
  {
   "cell_type": "code",
   "execution_count": 108,
   "metadata": {},
   "outputs": [
    {
     "name": "stdout",
     "output_type": "stream",
     "text": [
      "Tools : 8.544710695499708\n",
      "Entertainment : 6.054938632378725\n",
      "Education : 5.341905318527177\n",
      "Business : 4.687317358270017\n",
      "Productivity : 3.9392168322618355\n",
      "Lifestyle : 3.892460549386324\n",
      "Finance : 3.717124488603156\n",
      "Medical : 3.6236119228521333\n",
      "Personalization : 3.378141437755698\n",
      "Sports : 3.3080070134424315\n",
      "Communication : 3.2028053769725306\n",
      "Action : 3.1560490940970194\n",
      "Health & Fitness : 3.132670952659264\n",
      "Photography : 2.9690239625949735\n",
      "News & Magazines : 2.77030976037405\n",
      "Social : 2.6651081239041496\n",
      "Travel & Local : 2.2910578609000583\n",
      "Shopping : 2.2209234365867916\n",
      "Books & Reference : 2.162478082992402\n",
      "Simulation : 2.104032729398013\n",
      "Arcade : 1.858562244301578\n",
      "Dating : 1.8234950321449443\n",
      "Casual : 1.8001168907071887\n",
      "Video Players & Editors : 1.7299824663939218\n",
      "Maps & Navigation : 1.3325540619520748\n",
      "Food & Drink : 1.2273524254821742\n",
      "Puzzle : 1.1455289304500291\n",
      "Racing : 1.0169491525423728\n",
      "Strategy : 0.9468147282291058\n",
      "Role Playing : 0.9468147282291058\n",
      "Libraries & Demo : 0.9351256575102279\n",
      "Auto & Vehicles : 0.9234365867913501\n",
      "House & Home : 0.8182349503214494\n",
      "Weather : 0.783167738164816\n",
      "Events : 0.701344243132671\n",
      "Adventure : 0.6428988895382818\n",
      "Beauty : 0.619520748100526\n",
      "Art & Design : 0.6078316773816481\n",
      "Comics : 0.5493863237872589\n",
      "Parenting : 0.5026300409117476\n",
      "Card : 0.43249561659848046\n",
      "Trivia : 0.4091174751607247\n",
      "Educational;Education : 0.4091174751607247\n",
      "Casino : 0.38573933372296904\n",
      "Educational : 0.3740502630040912\n",
      "Board : 0.3740502630040912\n",
      "Education;Education : 0.3389830508474576\n",
      "Word : 0.2571595558153127\n",
      "Casual;Pretend Play : 0.22209234365867916\n",
      "Music : 0.19871420222092342\n",
      "Racing;Action & Adventure : 0.17533606078316774\n",
      "Puzzle;Brain Games : 0.17533606078316774\n",
      "Entertainment;Music & Video : 0.1402688486265342\n",
      "Casual;Brain Games : 0.1402688486265342\n",
      "Casual;Action & Adventure : 0.1402688486265342\n",
      "Arcade;Action & Adventure : 0.10520163646990065\n",
      "Action;Action & Adventure : 0.0935125657510228\n",
      "Simulation;Action & Adventure : 0.08182349503214494\n",
      "Parenting;Education : 0.08182349503214494\n",
      "Educational;Pretend Play : 0.08182349503214494\n",
      "Entertainment;Brain Games : 0.0701344243132671\n",
      "Art & Design;Creativity : 0.0701344243132671\n",
      "Parenting;Music & Video : 0.058445353594389245\n",
      "Educational;Brain Games : 0.058445353594389245\n",
      "Education;Pretend Play : 0.058445353594389245\n",
      "Casual;Creativity : 0.058445353594389245\n",
      "Board;Brain Games : 0.058445353594389245\n",
      "Role Playing;Pretend Play : 0.0467562828755114\n",
      "Education;Creativity : 0.0467562828755114\n",
      "Role Playing;Action & Adventure : 0.03506721215663355\n",
      "Puzzle;Action & Adventure : 0.03506721215663355\n",
      "Educational;Creativity : 0.03506721215663355\n",
      "Educational;Action & Adventure : 0.03506721215663355\n",
      "Education;Music & Video : 0.03506721215663355\n",
      "Education;Action & Adventure : 0.03506721215663355\n",
      "Adventure;Action & Adventure : 0.03506721215663355\n",
      "Video Players & Editors;Music & Video : 0.0233781414377557\n",
      "Sports;Action & Adventure : 0.0233781414377557\n",
      "Simulation;Pretend Play : 0.0233781414377557\n",
      "Puzzle;Creativity : 0.0233781414377557\n",
      "Music;Music & Video : 0.0233781414377557\n",
      "Entertainment;Pretend Play : 0.0233781414377557\n",
      "Entertainment;Creativity : 0.0233781414377557\n",
      "Entertainment;Action & Adventure : 0.0233781414377557\n",
      "Education;Brain Games : 0.0233781414377557\n",
      "Casual;Education : 0.0233781414377557\n",
      "Board;Action & Adventure : 0.0233781414377557\n",
      "Video Players & Editors;Creativity : 0.01168907071887785\n",
      "Trivia;Education : 0.01168907071887785\n",
      "Tools;Education : 0.01168907071887785\n",
      "Strategy;Education : 0.01168907071887785\n",
      "Strategy;Creativity : 0.01168907071887785\n",
      "Strategy;Action & Adventure : 0.01168907071887785\n",
      "Simulation;Education : 0.01168907071887785\n",
      "Role Playing;Brain Games : 0.01168907071887785\n",
      "Racing;Pretend Play : 0.01168907071887785\n",
      "Puzzle;Education : 0.01168907071887785\n",
      "Parenting;Brain Games : 0.01168907071887785\n",
      "Music & Audio;Music & Video : 0.01168907071887785\n",
      "Lifestyle;Pretend Play : 0.01168907071887785\n",
      "Health & Fitness;Education : 0.01168907071887785\n",
      "Health & Fitness;Action & Adventure : 0.01168907071887785\n",
      "Entertainment;Education : 0.01168907071887785\n",
      "Comics;Creativity : 0.01168907071887785\n",
      "Casual;Music & Video : 0.01168907071887785\n",
      "Card;Action & Adventure : 0.01168907071887785\n",
      "Books & Reference;Education : 0.01168907071887785\n",
      "Art & Design;Pretend Play : 0.01168907071887785\n",
      "Art & Design;Action & Adventure : 0.01168907071887785\n",
      "Arcade;Pretend Play : 0.01168907071887785\n",
      "Adventure;Education : 0.01168907071887785\n"
     ]
    }
   ],
   "source": [
    "display_table(googlePlay_freeApp, 9)"
   ]
  },
  {
   "cell_type": "markdown",
   "metadata": {},
   "source": [
    "The difference between the Genres and the Category columns on Google Play dataset is not clear, but one thing we can notice is that the Genres column seems more detailed (it has more categories) than  the Category column. We're only looking for the bigger picture, so we'll only work with the Category column moving forward.\n",
    "\n",
    "Until now, we found that the App Store is dominated by apps designed for fun, while Google Play shows a more balanced landscape of both practical and for-fun apps. \n",
    "\n",
    "Next, we want to explore kind of apps that has more users to see what kind of app has high demand."
   ]
  },
  {
   "cell_type": "markdown",
   "metadata": {},
   "source": [
    "## Most Popular Apps by Genre on the App Store\n",
    "\n",
    "\n",
    "One way to find out what genres are the most popular (have the most users) is to calculate the average number of installs for each app genre. For the Google Play data set, we can find this information in the 'Installs' column, but for the App Store data set this information is missing. As a workaround, we'll take the total number of user ratings as a proxy, which we can find in the 'rating_count_tot' column.\n",
    "\n",
    "Let's start with calculating the average number of user ratings per app genre on the App Store. To do that, we'll need to:\n",
    "\n",
    "1- Isolateing the apps of each genre using the freq_table() function that we wrote in the previous step.\n",
    "\n",
    "2- For each genre:\n",
    " * Sum up the user ratings for the apps of that genre.\n",
    " * Calculating the average number of user ratings by dividing the sum by the number of apps belonging to that genre."
   ]
  },
  {
   "cell_type": "code",
   "execution_count": 123,
   "metadata": {},
   "outputs": [
    {
     "name": "stdout",
     "output_type": "stream",
     "text": [
      "Social Networking : 75253.84375\n",
      "Photo & Video : 29249.766666666666\n",
      "Games : 22820.230555555554\n",
      "Music : 55396.01587301587\n",
      "Reference : 84258.25\n",
      "Health & Fitness : 19230.86440677966\n",
      "Weather : 48275.57692307692\n",
      "Travel : 34115.57575757576\n",
      "Shopping : 28517.72972972973\n",
      "News : 23382.17948717949\n",
      "Navigation : 102592.0\n",
      "Lifestyle : 17848.51111111111\n",
      "Entertainment : 14481.995652173913\n",
      "Food & Drink : 33333.92307692308\n",
      "Sports : 25382.114754098362\n",
      "Finance : 26729.090909090908\n",
      "Education : 6099.417391304348\n",
      "Productivity : 22842.22\n",
      "Utilities : 11413.179104477613\n",
      "Book : 16671.0\n",
      "Business : 6839.6\n",
      "Catalogs : 5195.0\n",
      "Medical : 612.0\n"
     ]
    }
   ],
   "source": [
    "appStore_genres = freq_table(appStore_freeApp , -5)\n",
    " \n",
    "for genre in appStore_genres :\n",
    "    total = 0 \n",
    "    len_genre = 0\n",
    "    \n",
    "    for app in appStore_freeApp :\n",
    "        genre_app = app[-5]\n",
    "        if genre_app == genre:\n",
    "            total += float(app[5]) # rating_count_tot\n",
    "            len_genre += 1   \n",
    "    avg_numOfRatings = total /len_genre\n",
    "    print(genre, ':', avg_numOfRatings)"
   ]
  },
  {
   "cell_type": "markdown",
   "metadata": {},
   "source": [
    "From result, the'Navigation' apps is the most popular apps with 102,592 average number of user ratings followed by 'Reference' apps with 84,258, 'Social Networking' apps with 75,253 ,'Music' apps with 55,396 and 'Weather' apps with 48,275 .\n",
    "\n",
    "Now, let's take a look on the five most popular genres:"
   ]
  },
  {
   "cell_type": "code",
   "execution_count": 125,
   "metadata": {},
   "outputs": [
    {
     "name": "stdout",
     "output_type": "stream",
     "text": [
      "Waze - GPS Navigation, Maps & Real-time Traffic : 345046\n",
      "Google Maps - Navigation & Transit : 154911\n",
      "Geocaching® : 12811\n",
      "ImmobilienScout24: Real Estate Search in Germany : 187\n",
      "Railway Route Search : 5\n"
     ]
    }
   ],
   "source": [
    "for app in appStore_freeApp:\n",
    "    if app[-5] == 'Navigation':\n",
    "        print(app[1], ':', app[5]) # print name and number of ratings"
   ]
  },
  {
   "cell_type": "markdown",
   "metadata": {},
   "source": [
    "We can see that the navigation apps is heavily influenced by 'Waze' app and 'Google Maps' app, they both represent a half million of the user reviews.\n",
    "\n",
    "The same pattern applies to:\n",
    "\n",
    "1- Social networking apps, where the average number is heavily influenced by a few giants like Facebook, Pinterest, Skype, etc. \n",
    "\n",
    "2- Music apps, where a few big players like Pandora, Spotify, and Shazam heavily influence the average number.\n",
    " "
   ]
  },
  {
   "cell_type": "code",
   "execution_count": 130,
   "metadata": {},
   "outputs": [
    {
     "name": "stdout",
     "output_type": "stream",
     "text": [
      "Bible : 985920\n",
      "Dictionary.com Dictionary & Thesaurus : 200047\n",
      "Dictionary.com Dictionary & Thesaurus for iPad : 54175\n",
      "Google Translate : 26786\n",
      "Muslim Pro: Ramadan 2017 Prayer Times, Azan, Quran : 18418\n",
      "New Furniture Mods - Pocket Wiki & Game Tools for Minecraft PC Edition : 17588\n",
      "Merriam-Webster Dictionary : 16849\n",
      "Night Sky : 12122\n",
      "City Maps for Minecraft PE - The Best Maps for Minecraft Pocket Edition (MCPE) : 8535\n",
      "LUCKY BLOCK MOD ™ for Minecraft PC Edition - The Best Pocket Wiki & Mods Installer Tools : 4693\n",
      "GUNS MODS for Minecraft PC Edition - Mods Tools : 1497\n",
      "WWDC : 762\n",
      "Horror Maps for Minecraft PE - Download The Scariest Maps for Minecraft Pocket Edition (MCPE) Free : 718\n",
      "VPN Express : 14\n",
      "Real Bike Traffic Rider Virtual Reality Glasses : 8\n",
      "Jishokun-Japanese English Dictionary & Translator : 0\n"
     ]
    }
   ],
   "source": [
    "for app in appStore_freeApp:\n",
    "    if app[-5] == 'Reference':\n",
    "        print(app[1], ':', app[5])"
   ]
  },
  {
   "cell_type": "markdown",
   "metadata": {},
   "source": [
    "Reference apps have 84,258 user ratings on average, but it's actually the Bible and Dictionary.com which skew up the average rating.\n",
    "\n",
    "For Weather apps, people generally don't spend too much time in-app, and the chances of making profit from in-app adds are low.\n",
    "\n",
    "Now, let's move to the Google Play apps."
   ]
  },
  {
   "cell_type": "markdown",
   "metadata": {},
   "source": [
    "## Most Popular Apps by Genre on Google Play\n",
    "\n",
    "For the Google Play market, we actually have data about the number of installs, so we should be able to get a clearer picture about genre popularity. However, the install numbers don't seem precise enough — we can see that most values are open-ended (100+, 1,000+, 5,000+, etc.):"
   ]
  },
  {
   "cell_type": "code",
   "execution_count": 131,
   "metadata": {},
   "outputs": [
    {
     "name": "stdout",
     "output_type": "stream",
     "text": [
      "1,000,000+ : 15.663354763296317\n",
      "100,000+ : 11.525423728813559\n",
      "10,000,000+ : 10.461718293395675\n",
      "10,000+ : 10.391583869082407\n",
      "1,000+ : 8.416130917592051\n",
      "100+ : 7.001753360607832\n",
      "5,000,000+ : 6.756282875511396\n",
      "500,000+ : 5.5406195207481\n",
      "50,000+ : 4.769140853302162\n",
      "5,000+ : 4.500292226767972\n",
      "10+ : 3.483343074225599\n",
      "500+ : 3.226183518410286\n",
      "50,000,000+ : 2.2910578609000583\n",
      "100,000,000+ : 2.162478082992402\n",
      "50+ : 1.9403857393337232\n",
      "5+ : 0.8065458796025715\n",
      "1+ : 0.5026300409117476\n",
      "500,000,000+ : 0.2805376972530684\n",
      "1,000,000,000+ : 0.22209234365867916\n",
      "0+ : 0.0467562828755114\n",
      "0 : 0.01168907071887785\n"
     ]
    }
   ],
   "source": [
    "display_table(googlePlay_freeApp, 5) #installs"
   ]
  },
  {
   "cell_type": "markdown",
   "metadata": {},
   "source": [
    "One problem with this data is that is not precise. For instance, we don't know whether an app with 100,000+ installs has 100,000 installs, 200,000, or 350,000. However, we don't need very precise data for our purposes — we only want to get an idea which app genres attract the most users. \n",
    "\n",
    "We're going to leave the numbers as they are, which means that we'll consider that an app with 100,000+ installs has 100,000 installs, and an app with 1,000,000+ installs has 1,000,000 installs, and so on.\n",
    "\n",
    "**Note:**\n",
    "we'll need to remove the commas and the plus characters from 'install' values and convert it from string to float.\n"
   ]
  },
  {
   "cell_type": "code",
   "execution_count": 133,
   "metadata": {},
   "outputs": [
    {
     "name": "stdout",
     "output_type": "stream",
     "text": [
      "ART_AND_DESIGN : 1932519.642857143\n",
      "AUTO_AND_VEHICLES : 645317.2278481013\n",
      "BEAUTY : 513151.88679245283\n",
      "BOOKS_AND_REFERENCE : 8999314.918918919\n",
      "BUSINESS : 1710203.4663341646\n",
      "COMICS : 880440.625\n",
      "COMMUNICATION : 35933961.6459854\n",
      "DATING : 822459.9807692308\n",
      "EDUCATION : 1826767.6767676768\n",
      "ENTERTAINMENT : 12177283.950617284\n",
      "EVENTS : 232885.83333333334\n",
      "FINANCE : 1380165.5094339622\n",
      "FOOD_AND_DRINK : 1911606.2\n",
      "HEALTH_AND_FITNESS : 4258762.6567164175\n",
      "HOUSE_AND_HOME : 1380033.7285714287\n",
      "LIBRARIES_AND_DEMO : 662421.375\n",
      "LIFESTYLE : 1381354.248502994\n",
      "GAME : 15799823.725961538\n",
      "FAMILY : 3696338.7331686225\n",
      "MEDICAL : 121230.14193548387\n",
      "SOCIAL : 24038639.263157893\n",
      "SHOPPING : 7274624.131578947\n",
      "PHOTOGRAPHY : 18028223.68110236\n",
      "SPORTS : 3860842.6606498193\n",
      "TRAVEL_AND_LOCAL : 14370321.867346939\n",
      "TOOLS : 11010869.950819673\n",
      "PERSONALIZATION : 5254790.269896193\n",
      "PRODUCTIVITY : 16852579.56676558\n",
      "PARENTING : 535196.6071428572\n",
      "WEATHER : 5219216.7164179105\n",
      "VIDEO_PLAYERS : 24964878.133333333\n",
      "NEWS_AND_MAGAZINES : 9926131.265822785\n",
      "MAPS_AND_NAVIGATION : 4304432.280701755\n"
     ]
    }
   ],
   "source": [
    "googlePlay_categories = freq_table(googlePlay_freeApp , 1)\n",
    "\n",
    "for category in googlePlay_categories :\n",
    "    total = 0 \n",
    "    len_category = 0\n",
    "    for app in googlePlay_freeApp :\n",
    "        category_app = app[1]\n",
    "        if category_app == category:\n",
    "            num_Of_Installs = app[5]\n",
    "            num_Of_Installs = num_Of_Installs.replace('+' , '')\n",
    "            num_Of_Installs = num_Of_Installs.replace(',' , '')\n",
    "            num_Of_Installs = float(num_Of_Installs)\n",
    "            total += num_Of_Installs\n",
    "            len_category += 1   \n",
    "    avg_numOfInstalls = total /len_category\n",
    "    print(category , ':' , avg_numOfInstalls )\n",
    "\n",
    " "
   ]
  },
  {
   "cell_type": "markdown",
   "metadata": {},
   "source": [
    "From result, 'Communication' apps have the most installs with 35,933,961 followed by 'Video players' apps with 24,964,878 ,'Social' apps with 24,038,639 ,'Photography' apps with 18,028,223 ,'Productivity' apps with 16,852,579  and Game apps with 15,799,823.\n",
    "\n",
    "\n",
    "Even though that the average number of installs for 'communication apps' is high , but this result is heavily skewed up by a few apps that have over one billion installs(like: WhatsApp Messenger , Skype, Google Chrome, Gmail, Hangouts) ,and a few others with over 100 and 500 million installs:"
   ]
  },
  {
   "cell_type": "code",
   "execution_count": 134,
   "metadata": {},
   "outputs": [
    {
     "name": "stdout",
     "output_type": "stream",
     "text": [
      "WhatsApp Messenger : 1,000,000,000+\n",
      "imo beta free calls and text : 100,000,000+\n",
      "Android Messages : 100,000,000+\n",
      "Google Duo - High Quality Video Calls : 500,000,000+\n",
      "imo free video calls and chat : 500,000,000+\n",
      "Skype - free IM & video calls : 1,000,000,000+\n",
      "Who : 100,000,000+\n",
      "GO SMS Pro - Messenger, Free Themes, Emoji : 100,000,000+\n",
      "LINE: Free Calls & Messages : 500,000,000+\n",
      "Google Chrome: Fast & Secure : 1,000,000,000+\n",
      "Firefox Browser fast & private : 100,000,000+\n",
      "UC Browser - Fast Download Private & Secure : 500,000,000+\n",
      "Gmail : 1,000,000,000+\n",
      "Hangouts : 1,000,000,000+\n",
      "Messenger Lite: Free Calls & Messages : 100,000,000+\n",
      "Kik : 100,000,000+\n",
      "KakaoTalk: Free Calls & Text : 100,000,000+\n",
      "Opera Mini - fast web browser : 100,000,000+\n",
      "Opera Browser: Fast and Secure : 100,000,000+\n",
      "Telegram : 100,000,000+\n",
      "Truecaller: Caller ID, SMS spam blocking & Dialer : 100,000,000+\n",
      "UC Browser Mini -Tiny Fast Private & Secure : 100,000,000+\n",
      "Viber Messenger : 500,000,000+\n",
      "WeChat : 100,000,000+\n",
      "BBM - Free Calls & Messages : 100,000,000+\n"
     ]
    }
   ],
   "source": [
    "for app in googlePlay_freeApp:\n",
    "    if app[1] == 'COMMUNICATION' and (app[5] == '1,000,000,000+'\n",
    "                                      or app[5] == '500,000,000+'\n",
    "                                      or app[5] == '100,000,000+'):\n",
    "        print(app[0], ':', app[5])"
   ]
  },
  {
   "cell_type": "markdown",
   "metadata": {},
   "source": [
    "If we removed all the communication apps that have over 100 million installs, the average would be reduced roughly ten times( from 35 million to 3 million):"
   ]
  },
  {
   "cell_type": "code",
   "execution_count": 140,
   "metadata": {},
   "outputs": [
    {
     "data": {
      "text/plain": [
       "3397210.807228916"
      ]
     },
     "execution_count": 140,
     "metadata": {},
     "output_type": "execute_result"
    }
   ],
   "source": [
    "under_100M = []\n",
    "\n",
    "for app in googlePlay_freeApp:\n",
    "    num_Of_Installs = app[5]\n",
    "    num_Of_Installs = num_Of_Installs.replace(',', '')\n",
    "    num_Of_Installs = num_Of_Installs.replace('+', '')\n",
    "    num_Of_Installs = float(num_Of_Installs) \n",
    "\n",
    "    if (app[1] == 'COMMUNICATION') and (num_Of_Installs < 100000000):\n",
    "        under_100M.append(num_Of_Installs)\n",
    "        \n",
    "sum(under_100M) / len(under_100M)"
   ]
  },
  {
   "cell_type": "markdown",
   "metadata": {},
   "source": [
    "We see the same pattern repeated for:\n",
    "\n",
    "1- Video players apps with Youtube, 'Google Play Movies & TV' and MX Player.\n",
    "\n",
    "2- Socia apps with Facebook, Instagram, Google , etc.\n",
    "\n",
    "3- Photography apps with Google Photos and other popular photo editors.\n",
    "\n",
    "4- Productivity apps with Microsoft Word, Dropbox, Google Calendar, Evernote, etc.\n",
    "\n",
    "This pattern can give us some hints that these app genres may not really popular than they are. Moreover, these niches seem to be dominated by a few giants who are hard to compete against.\n",
    "\n",
    "For 'Game' apps, it seems pretty popular, but previously we found out this part of the market seems a bit saturated, so we'd like to come up with a different app recommendation if possible.\n",
    "\n",
    "Our aim is to recommend an app genre that shows potential for being profitable on both the App Store and Google Play. Since we found the 'reference' genre has some potential to work well on the App Store, also on Google Play (BOOKS_AND_REFERENCE) looks fairly popular as well, with an average number of installs of 8,999,314. It's interesting to explore this in more depth, \n"
   ]
  },
  {
   "cell_type": "code",
   "execution_count": 141,
   "metadata": {},
   "outputs": [
    {
     "name": "stdout",
     "output_type": "stream",
     "text": [
      "E-Book Read - Read Book for free : 50,000+\n",
      "Download free book with green book : 100,000+\n",
      "Wikipedia : 10,000,000+\n",
      "Cool Reader : 10,000,000+\n",
      "Free Panda Radio Music : 100,000+\n",
      "Book store : 1,000,000+\n",
      "FBReader: Favorite Book Reader : 10,000,000+\n",
      "English Grammar Complete Handbook : 500,000+\n",
      "Free Books - Spirit Fanfiction and Stories : 1,000,000+\n",
      "Google Play Books : 1,000,000,000+\n",
      "AlReader -any text book reader : 5,000,000+\n",
      "Offline English Dictionary : 100,000+\n",
      "Offline: English to Tagalog Dictionary : 500,000+\n",
      "FamilySearch Tree : 1,000,000+\n",
      "Cloud of Books : 1,000,000+\n",
      "Recipes of Prophetic Medicine for free : 500,000+\n",
      "Anonymous caller detection : 10,000+\n",
      "Ebook Reader : 5,000,000+\n",
      "Litnet - E-books : 100,000+\n",
      "Read books online : 5,000,000+\n",
      "English to Urdu Dictionary : 500,000+\n",
      "eBoox: book reader fb2 epub zip : 1,000,000+\n",
      "English Persian Dictionary : 500,000+\n",
      "Flybook : 500,000+\n",
      "All Maths Formulas : 1,000,000+\n",
      "Ancestry : 5,000,000+\n",
      "HTC Help : 10,000,000+\n",
      "English translation from Bengali : 100,000+\n",
      "Pdf Book Download - Read Pdf Book : 100,000+\n",
      "Free Book Reader : 100,000+\n",
      "eBoox new: Reader for fb2 epub zip books : 50,000+\n",
      "Only 30 days in English, the guideline is guaranteed : 500,000+\n",
      "Moon+ Reader : 10,000,000+\n",
      "SH-02J Owner's Manual (Android 8.0) : 50,000+\n",
      "English-Myanmar Dictionary : 1,000,000+\n",
      "Golden Dictionary (EN-AR) : 1,000,000+\n",
      "All Language Translator Free : 1,000,000+\n",
      "Azpen eReader : 500,000+\n",
      "URBANO V 02 instruction manual : 100,000+\n",
      "Bible : 100,000,000+\n",
      "C Programs and Reference : 50,000+\n",
      "C Offline Tutorial : 1,000+\n",
      "C Programs Handbook : 50,000+\n",
      "Amazon Kindle : 100,000,000+\n",
      "Aab e Hayat Full Novel : 100,000+\n",
      "Aldiko Book Reader : 10,000,000+\n",
      "Google I/O 2018 : 500,000+\n",
      "R Language Reference Guide : 10,000+\n",
      "Learn R Programming Full : 5,000+\n",
      "R Programing Offline Tutorial : 1,000+\n",
      "Guide for R Programming : 5+\n",
      "Learn R Programming : 10+\n",
      "R Quick Reference Big Data : 1,000+\n",
      "V Made : 100,000+\n",
      "Wattpad 📖 Free Books : 100,000,000+\n",
      "Dictionary - WordWeb : 5,000,000+\n",
      "Guide (for X-MEN) : 100,000+\n",
      "AC Air condition Troubleshoot,Repair,Maintenance : 5,000+\n",
      "AE Bulletins : 1,000+\n",
      "Ae Allah na Dai (Rasa) : 10,000+\n",
      "50000 Free eBooks & Free AudioBooks : 5,000,000+\n",
      "Ag PhD Field Guide : 10,000+\n",
      "Ag PhD Deficiencies : 10,000+\n",
      "Ag PhD Planting Population Calculator : 1,000+\n",
      "Ag PhD Soybean Diseases : 1,000+\n",
      "Fertilizer Removal By Crop : 50,000+\n",
      "A-J Media Vault : 50+\n",
      "Al-Quran (Free) : 10,000,000+\n",
      "Al Quran (Tafsir & by Word) : 500,000+\n",
      "Al Quran Indonesia : 10,000,000+\n",
      "Al'Quran Bahasa Indonesia : 10,000,000+\n",
      "Al Quran Al karim : 1,000,000+\n",
      "Al-Muhaffiz : 50,000+\n",
      "Al Quran : EAlim - Translations & MP3 Offline : 5,000,000+\n",
      "Al-Quran 30 Juz free copies : 500,000+\n",
      "Koran Read &MP3 30 Juz Offline : 1,000,000+\n",
      "Hafizi Quran 15 lines per page : 1,000,000+\n",
      "Quran for Android : 10,000,000+\n",
      "Surah Al-Waqiah : 100,000+\n",
      "Hisnul Al Muslim - Hisn Invocations & Adhkaar : 100,000+\n",
      "Satellite AR : 1,000,000+\n",
      "Audiobooks from Audible : 100,000,000+\n",
      "Kinot & Eichah for Tisha B'Av : 10,000+\n",
      "AW Tozer Devotionals - Daily : 5,000+\n",
      "Tozer Devotional -Series 1 : 1,000+\n",
      "The Pursuit of God : 1,000+\n",
      "AY Sing : 5,000+\n",
      "Ay Hasnain k Nana Milad Naat : 10,000+\n",
      "Ay Mohabbat Teri Khatir Novel : 10,000+\n",
      "Arizona Statutes, ARS (AZ Law) : 1,000+\n",
      "Oxford A-Z of English Usage : 1,000,000+\n",
      "BD Fishpedia : 1,000+\n",
      "BD All Sim Offer : 10,000+\n",
      "Youboox - Livres, BD et magazines : 500,000+\n",
      "B&H Kids AR : 10,000+\n",
      "Dictionary.com: Find Definitions for English Words : 10,000,000+\n",
      "English Dictionary - Offline : 10,000,000+\n",
      "Bible KJV : 5,000,000+\n",
      "Borneo Bible, BM Bible : 10,000+\n",
      "MOD Black for BM : 100+\n",
      "BM Box : 1,000+\n",
      "Anime Mod for BM : 100+\n",
      "NOOK: Read eBooks & Magazines : 10,000,000+\n",
      "NOOK Audiobooks : 500,000+\n",
      "NOOK App for NOOK Devices : 500,000+\n",
      "Browsery by Barnes & Noble : 5,000+\n",
      "bp e-store : 1,000+\n",
      "Brilliant Quotes: Life, Love, Family & Motivation : 1,000,000+\n",
      "BR Ambedkar Biography & Quotes : 10,000+\n",
      "BU Alsace : 100+\n",
      "Catholic La Bu Zo Kam : 500+\n",
      "Khrifa Hla Bu (Solfa) : 10+\n",
      "Kristian Hla Bu : 10,000+\n",
      "SA HLA BU : 1,000+\n",
      "Learn SAP BW : 500+\n",
      "Learn SAP BW on HANA : 500+\n",
      "CA Laws 2018 (California Laws and Codes) : 5,000+\n",
      "Bootable Methods(USB-CD-DVD) : 10,000+\n",
      "cloudLibrary : 100,000+\n",
      "SDA Collegiate Quarterly : 500+\n",
      "Sabbath School : 100,000+\n",
      "Cypress College Library : 100+\n",
      "Stats Royale for Clash Royale : 1,000,000+\n",
      "GATE 21 years CS Papers(2011-2018 Solved) : 50+\n",
      "Learn CT Scan Of Head : 5,000+\n",
      "Easy Cv maker 2018 : 10,000+\n",
      "How to Write CV : 100,000+\n",
      "CW Nuclear : 1,000+\n",
      "CY Spray nozzle : 10+\n",
      "BibleRead En Cy Zh Yue : 5+\n",
      "CZ-Help : 5+\n",
      "Guide for DB Xenoverse : 10,000+\n",
      "Guide for DB Xenoverse 2 : 10,000+\n",
      "Guide for IMS DB : 10+\n",
      "DC HSEMA : 5,000+\n",
      "DC Public Library : 1,000+\n",
      "Painting Lulu DC Super Friends : 1,000+\n",
      "Dictionary : 10,000,000+\n",
      "Fix Error Google Playstore : 1,000+\n",
      "D. H. Lawrence Poems FREE : 1,000+\n",
      "Bilingual Dictionary Audio App : 5,000+\n",
      "DM Screen : 10,000+\n",
      "wikiHow: how to do anything : 1,000,000+\n",
      "Dr. Doug's Tips : 1,000+\n",
      "Bible du Semeur-BDS (French) : 50,000+\n",
      "La citadelle du musulman : 50,000+\n",
      "DV 2019 Entry Guide : 10,000+\n",
      "DV 2019 - EDV Photo & Form : 50,000+\n",
      "DV 2018 Winners Guide : 1,000+\n",
      "EB Annual Meetings : 1,000+\n",
      "EC - AP & Telangana : 5,000+\n",
      "TN Patta Citta & EC : 10,000+\n",
      "AP Stamps and Registration : 10,000+\n",
      "CompactiMa EC pH Calibration : 100+\n",
      "EGW Writings 2 : 100,000+\n",
      "EGW Writings : 1,000,000+\n",
      "Bible with EGW Comments : 100,000+\n",
      "My Little Pony AR Guide : 1,000,000+\n",
      "SDA Sabbath School Quarterly : 500,000+\n",
      "Duaa Ek Ibaadat : 5,000+\n",
      "Spanish English Translator : 10,000,000+\n",
      "Dictionary - Merriam-Webster : 10,000,000+\n",
      "JW Library : 10,000,000+\n",
      "Oxford Dictionary of English : Free : 10,000,000+\n",
      "English Hindi Dictionary : 10,000,000+\n",
      "English to Hindi Dictionary : 5,000,000+\n",
      "EP Research Service : 1,000+\n",
      "Hymnes et Louanges : 100,000+\n",
      "EU Charter : 1,000+\n",
      "EU Data Protection : 1,000+\n",
      "EU IP Codes : 100+\n",
      "EW PDF : 5+\n",
      "BakaReader EX : 100,000+\n",
      "EZ Quran : 50,000+\n",
      "La Fe de Jesus : 1,000+\n",
      "Le Fe de Jesus : 500+\n",
      "Florida - Pocket Brainbook : 1,000+\n",
      "Florida Statutes (FL Code) : 1,000+\n",
      "English To Shona Dictionary : 10,000+\n",
      "Greek Bible FP (Audio) : 1,000+\n",
      "Golden Dictionary (FR-AR) : 500,000+\n",
      "Fanfic-FR : 5,000+\n",
      "Bulgarian French Dictionary Fr : 10,000+\n",
      "Chemin (fr) : 1,000+\n",
      "The SCP Foundation DB fr nn5n : 1,000+\n"
     ]
    }
   ],
   "source": [
    "for app in googlePlay_freeApp:\n",
    "    if app[1] == 'BOOKS_AND_REFERENCE':\n",
    "        print(app[0], ':', app[5])\n"
   ]
  },
  {
   "cell_type": "markdown",
   "metadata": {},
   "source": [
    "The'BOOKS_AND_REFERENCE' genre includes a variety of apps also It seems there's still a small number of extremely popular apps that skew the average:"
   ]
  },
  {
   "cell_type": "code",
   "execution_count": 142,
   "metadata": {},
   "outputs": [
    {
     "name": "stdout",
     "output_type": "stream",
     "text": [
      "Google Play Books : 1,000,000,000+\n",
      "Bible : 100,000,000+\n",
      "Amazon Kindle : 100,000,000+\n",
      "Wattpad 📖 Free Books : 100,000,000+\n",
      "Audiobooks from Audible : 100,000,000+\n"
     ]
    }
   ],
   "source": [
    "for app in googlePlay_freeApp:\n",
    "    if app[1] == 'BOOKS_AND_REFERENCE' and (app[5] == '1,000,000,000+'\n",
    "                                            or app[5] == '500,000,000+'\n",
    "                                            or app[5] == '100,000,000+'):\n",
    "        print(app[0], ':', app[5])\n"
   ]
  },
  {
   "cell_type": "markdown",
   "metadata": {},
   "source": [
    "Luckily, it looks like there are only a few very popular apps(that skew the average), so this market still shows potential. Let's try to get some app ideas based on the kind of apps that are somewhere in the middle in terms of popularity (between 1,000,000 and 100,000,000 downloads):"
   ]
  },
  {
   "cell_type": "code",
   "execution_count": 144,
   "metadata": {},
   "outputs": [
    {
     "name": "stdout",
     "output_type": "stream",
     "text": [
      "Wikipedia : 10,000,000+\n",
      "Cool Reader : 10,000,000+\n",
      "Book store : 1,000,000+\n",
      "FBReader: Favorite Book Reader : 10,000,000+\n",
      "Free Books - Spirit Fanfiction and Stories : 1,000,000+\n",
      "AlReader -any text book reader : 5,000,000+\n",
      "FamilySearch Tree : 1,000,000+\n",
      "Cloud of Books : 1,000,000+\n",
      "Ebook Reader : 5,000,000+\n",
      "Read books online : 5,000,000+\n",
      "eBoox: book reader fb2 epub zip : 1,000,000+\n",
      "All Maths Formulas : 1,000,000+\n",
      "Ancestry : 5,000,000+\n",
      "HTC Help : 10,000,000+\n",
      "Moon+ Reader : 10,000,000+\n",
      "English-Myanmar Dictionary : 1,000,000+\n",
      "Golden Dictionary (EN-AR) : 1,000,000+\n",
      "All Language Translator Free : 1,000,000+\n",
      "Aldiko Book Reader : 10,000,000+\n",
      "Dictionary - WordWeb : 5,000,000+\n",
      "50000 Free eBooks & Free AudioBooks : 5,000,000+\n",
      "Al-Quran (Free) : 10,000,000+\n",
      "Al Quran Indonesia : 10,000,000+\n",
      "Al'Quran Bahasa Indonesia : 10,000,000+\n",
      "Al Quran Al karim : 1,000,000+\n",
      "Al Quran : EAlim - Translations & MP3 Offline : 5,000,000+\n",
      "Koran Read &MP3 30 Juz Offline : 1,000,000+\n",
      "Hafizi Quran 15 lines per page : 1,000,000+\n",
      "Quran for Android : 10,000,000+\n",
      "Satellite AR : 1,000,000+\n",
      "Oxford A-Z of English Usage : 1,000,000+\n",
      "Dictionary.com: Find Definitions for English Words : 10,000,000+\n",
      "English Dictionary - Offline : 10,000,000+\n",
      "Bible KJV : 5,000,000+\n",
      "NOOK: Read eBooks & Magazines : 10,000,000+\n",
      "Brilliant Quotes: Life, Love, Family & Motivation : 1,000,000+\n",
      "Stats Royale for Clash Royale : 1,000,000+\n",
      "Dictionary : 10,000,000+\n",
      "wikiHow: how to do anything : 1,000,000+\n",
      "EGW Writings : 1,000,000+\n",
      "My Little Pony AR Guide : 1,000,000+\n",
      "Spanish English Translator : 10,000,000+\n",
      "Dictionary - Merriam-Webster : 10,000,000+\n",
      "JW Library : 10,000,000+\n",
      "Oxford Dictionary of English : Free : 10,000,000+\n",
      "English Hindi Dictionary : 10,000,000+\n",
      "English to Hindi Dictionary : 5,000,000+\n"
     ]
    }
   ],
   "source": [
    "for app in googlePlay_freeApp:\n",
    "    if app[1] == 'BOOKS_AND_REFERENCE' and (app[5] == '1,000,000+'\n",
    "                                            or app[5] == '5,000,000+'\n",
    "                                            or app[5] == '10,000,000+'\n",
    "                                            or app[5] == '50,000,000+'):\n",
    "        print(app[0], ':', app[5])"
   ]
  },
  {
   "cell_type": "markdown",
   "metadata": {},
   "source": [
    "The 'BOOKS_AND_REFERENCE' genre seems to be dominated by:\n",
    "\n",
    "1- Softwares for reading ebooks. \n",
    "\n",
    "2- Various collections of libraries and dictionaries.\n",
    "\n",
    "So it's probably not a good idea to build similar apps since there'll be some significant competition.\n",
    "\n",
    "We also notice there are quite a few apps built around the book Quran, which suggests that building an app around a popular book can be profitable."
   ]
  },
  {
   "cell_type": "markdown",
   "metadata": {},
   "source": [
    "## Conclusions\n",
    "\n",
    "In this project, we analyzed data about the App Store and Google Play mobile apps with the goal of recommending an app profile that can be profitable for both markets.\n",
    "\n",
    "We concluded that taking a popular book (perhaps a more recent book) and turning it into an app could be profitable for both the Google Play and the App Store markets. The markets are already full of libraries, so we need to add some special features besides the raw version of the book.This might include daily quotes from the book, an audio version of the book, quizzes on the book, a forum where people can discuss the book, and many interesting features that will make the user spend more time using the apps and watching more ads which lead to increase the revenue."
   ]
  }
 ],
 "metadata": {
  "kernelspec": {
   "display_name": "Python 3",
   "language": "python",
   "name": "python3"
  },
  "language_info": {
   "codemirror_mode": {
    "name": "ipython",
    "version": 3
   },
   "file_extension": ".py",
   "mimetype": "text/x-python",
   "name": "python",
   "nbconvert_exporter": "python",
   "pygments_lexer": "ipython3",
   "version": "3.7.3"
  }
 },
 "nbformat": 4,
 "nbformat_minor": 2
}
